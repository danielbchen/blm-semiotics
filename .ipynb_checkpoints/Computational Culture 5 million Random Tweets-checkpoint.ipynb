{
 "cells": [
  {
   "cell_type": "markdown",
   "metadata": {},
   "source": [
    "# Identifying a Cultural Pattern: A Pilot Study into \"#BLM\""
   ]
  },
  {
   "cell_type": "markdown",
   "metadata": {},
   "source": [
    "### 1. Construct a final project research question related to the interpretation of a cultural pattern that interests you (i.e. \"Why is #ThrowbackThursday employed in a different way by Group A than it is by Group B?\").\n",
    "\n",
    "For my final project, I ask, how do local #BLM Twitter conversations in 2016 compare to discourse at the national level during the summer of 2020? \n",
    "\n",
    "I hypothesize that the primary relationship between the Sign-vehicle and the Object remains Indexical, however, the Objects themselves have changed over time, paving the way for new interpretants. For example, in 2016, I imagine that the hashtag indexically points to an act of police violence against a Black person in the United States. Here the intepretant is that Black lives are significant, but the Sign-vehicle is also being used as a way to spread information about an event. Four years down the road, racism persists, but I imagine that that on top of information sharing, the hashtag will also point to widespread protests across the country alongside every day racism. While the overall interpretant is consistent -- Black lives are valuable despite racial bias and violence -- new meanings would also emerge. Twitter users who use the hashtag are not only sharing information, but they are indexically positioning themselves along ideological/political spectrum and shaping their identities as individuals who use the hashtag end up iconically resembling another person who uses it as well."
   ]
  },
  {
   "cell_type": "markdown",
   "metadata": {},
   "source": [
    "### 2. What digital data could you use to study this phenomenon and answer your research question? How could you collect this data? Consult the [Final Project Assignment Page](https://canvas.uchicago.edu/courses/32762/assignments/302908) for several data search tools and feel free to talk with your instructor or TA if you have any further questions about how you might find and collect data related to your research question.\n",
    "\n",
    "I plan on using Tweets from between 2016 and 2020 that include the hashtag blacklivesmatter or blm or some variation. I am assuming usage between \"#blm\" and \"#blacklivesmatter\" will not be different. [arXiv](https://arxiv.org), an open access repository of electronic preprints owned by Cornell University, has shared [Tweet IDs](https://zenodo.org/record/4056563#.YCW73C1h1hE) for 41.8 million tweets from 10 million different users."
   ]
  },
  {
   "cell_type": "markdown",
   "metadata": {},
   "source": [
    "### 3. Download this data on your computer (if you are web-scraping, or have an exceptionally challenging data source to gather from and analyze, you may choose to download only a subset of the data for the purposes of this assignment) and load it into your Python Jupyter notebook. Print out a small sample of your data in your Jupyter notebook (i.e. using the .head() command, if you're using Pandas)."
   ]
  },
  {
   "cell_type": "markdown",
   "metadata": {},
   "source": [
    "Due to Twitter's user guidelines, the Tweet ID link shared above only contains unique identifiers linked to a specific tweet. It does not contain the actual text of the tweet itself. These tweet IDs need to be \"hydrated\" first. Essentially, after opening the downloaded CSV file from arXiv, I grabbed the last 500,000 tweet IDs and saved them into a .txt file. From there, I used [hydrator](https://github.com/DocNow/hydrator), an open source application that takes in a list of tweet IDs and returns a .csv file which contains the text of the tweet in addition to metadata such as the date/time of tweet and the number of retweets, if any.\n",
    "\n",
    "Twitter rate limits the number of tweets that can be \"hydrated\" over a given amount of time, which is why I decided to use half a million tweet IDs for this assignment. This returned about 389,000 tweets for an initial analysis. I plan on using more data for the final project. I estimate that it would take around 10 hours to hydrate 1,000,000 tweet IDs. "
   ]
  },
  {
   "cell_type": "code",
   "execution_count": 1,
   "metadata": {},
   "outputs": [],
   "source": [
    "from gensim import corpora, models\n",
    "import matplotlib.pyplot as plt\n",
    "import numpy as np\n",
    "import nltk\n",
    "from nltk.tokenize import TweetTokenizer\n",
    "import pandas as pd\n",
    "import re\n",
    "import string\n",
    "import warnings\n",
    "\n",
    "pd.options.display.max_columns = None  # Shows all columns of a dataframe in Jupyter Notebook\n",
    "warnings.filterwarnings('ignore')  # Supress warnings from being displayed"
   ]
  },
  {
   "cell_type": "markdown",
   "metadata": {},
   "source": [
    "Load in and print first five rows of the dataframe."
   ]
  },
  {
   "cell_type": "code",
   "execution_count": 2,
   "metadata": {},
   "outputs": [],
   "source": [
    "def data_loader():\n",
    "    \"\"\"Loads in BLM Tweets.\"\"\"\n",
    "\n",
    "    df = pd.read_csv(\n",
    "        '/users/danielchen/desktop/blm_tweets_389k.csv', low_memory=False)\n",
    "    \n",
    "    return df"
   ]
  },
  {
   "cell_type": "code",
   "execution_count": 3,
   "metadata": {
    "scrolled": false
   },
   "outputs": [
    {
     "data": {
      "text/html": [
       "<div>\n",
       "<style scoped>\n",
       "    .dataframe tbody tr th:only-of-type {\n",
       "        vertical-align: middle;\n",
       "    }\n",
       "\n",
       "    .dataframe tbody tr th {\n",
       "        vertical-align: top;\n",
       "    }\n",
       "\n",
       "    .dataframe thead th {\n",
       "        text-align: right;\n",
       "    }\n",
       "</style>\n",
       "<table border=\"1\" class=\"dataframe\">\n",
       "  <thead>\n",
       "    <tr style=\"text-align: right;\">\n",
       "      <th></th>\n",
       "      <th>coordinates</th>\n",
       "      <th>created_at</th>\n",
       "      <th>hashtags</th>\n",
       "      <th>media</th>\n",
       "      <th>urls</th>\n",
       "      <th>favorite_count</th>\n",
       "      <th>id</th>\n",
       "      <th>in_reply_to_screen_name</th>\n",
       "      <th>in_reply_to_status_id</th>\n",
       "      <th>in_reply_to_user_id</th>\n",
       "      <th>lang</th>\n",
       "      <th>place</th>\n",
       "      <th>possibly_sensitive</th>\n",
       "      <th>retweet_count</th>\n",
       "      <th>retweet_id</th>\n",
       "      <th>retweet_screen_name</th>\n",
       "      <th>source</th>\n",
       "      <th>text</th>\n",
       "      <th>tweet_url</th>\n",
       "      <th>user_created_at</th>\n",
       "      <th>user_screen_name</th>\n",
       "      <th>user_default_profile_image</th>\n",
       "      <th>user_description</th>\n",
       "      <th>user_favourites_count</th>\n",
       "      <th>user_followers_count</th>\n",
       "      <th>user_friends_count</th>\n",
       "      <th>user_listed_count</th>\n",
       "      <th>user_location</th>\n",
       "      <th>user_name</th>\n",
       "      <th>user_screen_name.1</th>\n",
       "      <th>user_statuses_count</th>\n",
       "      <th>user_time_zone</th>\n",
       "      <th>user_urls</th>\n",
       "      <th>user_verified</th>\n",
       "    </tr>\n",
       "  </thead>\n",
       "  <tbody>\n",
       "    <tr>\n",
       "      <th>0</th>\n",
       "      <td>NaN</td>\n",
       "      <td>Fri Jul 15 17:06:28 +0000 2016</td>\n",
       "      <td>BlackLivesMatter</td>\n",
       "      <td>https://twitter.com/TheWire985/status/75399918...</td>\n",
       "      <td>http://buff.ly/29I1p76</td>\n",
       "      <td>1</td>\n",
       "      <td>753999182835412993</td>\n",
       "      <td>NaN</td>\n",
       "      <td>NaN</td>\n",
       "      <td>NaN</td>\n",
       "      <td>en</td>\n",
       "      <td>NaN</td>\n",
       "      <td>False</td>\n",
       "      <td>1</td>\n",
       "      <td>NaN</td>\n",
       "      <td>NaN</td>\n",
       "      <td>&lt;a href=\"https://buffer.com\" rel=\"nofollow\"&gt;Bu...</td>\n",
       "      <td>How Black Radio Hurts #BlackLivesMatter https:...</td>\n",
       "      <td>https://twitter.com/TheWire985/status/75399918...</td>\n",
       "      <td>Sun Apr 03 19:07:21 +0000 2016</td>\n",
       "      <td>TheWire985</td>\n",
       "      <td>False</td>\n",
       "      <td>FM Radio: Music-Talk. Hip-Hop, R&amp;B, and Timele...</td>\n",
       "      <td>109</td>\n",
       "      <td>306</td>\n",
       "      <td>123</td>\n",
       "      <td>16</td>\n",
       "      <td>Orlando</td>\n",
       "      <td>The Wire 98.5</td>\n",
       "      <td>TheWire985</td>\n",
       "      <td>79016</td>\n",
       "      <td>NaN</td>\n",
       "      <td>http://www.TheWire985.com</td>\n",
       "      <td>False</td>\n",
       "    </tr>\n",
       "    <tr>\n",
       "      <th>1</th>\n",
       "      <td>NaN</td>\n",
       "      <td>Fri Jul 15 17:12:17 +0000 2016</td>\n",
       "      <td>blacklivesmatter</td>\n",
       "      <td>NaN</td>\n",
       "      <td>http://chi.mg/29UAAkx</td>\n",
       "      <td>0</td>\n",
       "      <td>754000645536047104</td>\n",
       "      <td>NaN</td>\n",
       "      <td>NaN</td>\n",
       "      <td>NaN</td>\n",
       "      <td>en</td>\n",
       "      <td>NaN</td>\n",
       "      <td>False</td>\n",
       "      <td>0</td>\n",
       "      <td>NaN</td>\n",
       "      <td>NaN</td>\n",
       "      <td>&lt;a href=\"http://mobile.twitter.com\" rel=\"nofol...</td>\n",
       "      <td>Incredible, incredible girls!! How 4 Teenage G...</td>\n",
       "      <td>https://twitter.com/Womens_Wire/status/7540006...</td>\n",
       "      <td>Fri Apr 04 05:48:22 +0000 2014</td>\n",
       "      <td>Womens_Wire</td>\n",
       "      <td>False</td>\n",
       "      <td>A platform for the voices and activism of inte...</td>\n",
       "      <td>13307</td>\n",
       "      <td>585</td>\n",
       "      <td>619</td>\n",
       "      <td>38</td>\n",
       "      <td>United States</td>\n",
       "      <td>Women's Wire</td>\n",
       "      <td>Womens_Wire</td>\n",
       "      <td>10666</td>\n",
       "      <td>NaN</td>\n",
       "      <td>https://www.womenswiremedia.org/</td>\n",
       "      <td>False</td>\n",
       "    </tr>\n",
       "    <tr>\n",
       "      <th>2</th>\n",
       "      <td>NaN</td>\n",
       "      <td>Fri Jul 15 17:11:43 +0000 2016</td>\n",
       "      <td>BlackLivesMatter</td>\n",
       "      <td>NaN</td>\n",
       "      <td>https://twitter.com/pj1017__/status/7539991226...</td>\n",
       "      <td>0</td>\n",
       "      <td>754000504775118848</td>\n",
       "      <td>NaN</td>\n",
       "      <td>NaN</td>\n",
       "      <td>NaN</td>\n",
       "      <td>und</td>\n",
       "      <td>NaN</td>\n",
       "      <td>False</td>\n",
       "      <td>0</td>\n",
       "      <td>NaN</td>\n",
       "      <td>NaN</td>\n",
       "      <td>&lt;a href=\"http://twitter.com/download/iphone\" r...</td>\n",
       "      <td>#BlackLivesMatter 😂😂 https://t.co/tT8lxhw8sF</td>\n",
       "      <td>https://twitter.com/BigP____/status/7540005047...</td>\n",
       "      <td>Sun Oct 10 12:01:58 +0000 2010</td>\n",
       "      <td>BigP____</td>\n",
       "      <td>False</td>\n",
       "      <td>Rest in Peace Quwan Forever My Brother</td>\n",
       "      <td>1043</td>\n",
       "      <td>2925</td>\n",
       "      <td>1365</td>\n",
       "      <td>7</td>\n",
       "      <td>With Jb ✌</td>\n",
       "      <td>Sosa mommy</td>\n",
       "      <td>BigP____</td>\n",
       "      <td>99467</td>\n",
       "      <td>NaN</td>\n",
       "      <td>NaN</td>\n",
       "      <td>False</td>\n",
       "    </tr>\n",
       "    <tr>\n",
       "      <th>3</th>\n",
       "      <td>NaN</td>\n",
       "      <td>Fri Jul 15 17:14:08 +0000 2016</td>\n",
       "      <td>blacklivesmatter</td>\n",
       "      <td>NaN</td>\n",
       "      <td>NaN</td>\n",
       "      <td>0</td>\n",
       "      <td>754001110394806272</td>\n",
       "      <td>NaN</td>\n",
       "      <td>NaN</td>\n",
       "      <td>NaN</td>\n",
       "      <td>en</td>\n",
       "      <td>NaN</td>\n",
       "      <td>NaN</td>\n",
       "      <td>0</td>\n",
       "      <td>NaN</td>\n",
       "      <td>NaN</td>\n",
       "      <td>&lt;a href=\"http://twitter.com/download/iphone\" r...</td>\n",
       "      <td>You cannot link arms under a universalist bann...</td>\n",
       "      <td>https://twitter.com/casbahgal/status/754001110...</td>\n",
       "      <td>Wed Oct 24 18:13:57 +0000 2012</td>\n",
       "      <td>casbahgal</td>\n",
       "      <td>False</td>\n",
       "      <td>Sociology Professor to some, Mom to those few :)</td>\n",
       "      <td>3045</td>\n",
       "      <td>65</td>\n",
       "      <td>220</td>\n",
       "      <td>10</td>\n",
       "      <td>NaN</td>\n",
       "      <td>Denise</td>\n",
       "      <td>casbahgal</td>\n",
       "      <td>1449</td>\n",
       "      <td>NaN</td>\n",
       "      <td>NaN</td>\n",
       "      <td>False</td>\n",
       "    </tr>\n",
       "    <tr>\n",
       "      <th>4</th>\n",
       "      <td>NaN</td>\n",
       "      <td>Fri Jul 15 17:12:53 +0000 2016</td>\n",
       "      <td>alllivesmatter blacklivesmatter</td>\n",
       "      <td>NaN</td>\n",
       "      <td>NaN</td>\n",
       "      <td>1</td>\n",
       "      <td>754000798133084160</td>\n",
       "      <td>NaN</td>\n",
       "      <td>NaN</td>\n",
       "      <td>NaN</td>\n",
       "      <td>en</td>\n",
       "      <td>NaN</td>\n",
       "      <td>NaN</td>\n",
       "      <td>0</td>\n",
       "      <td>NaN</td>\n",
       "      <td>NaN</td>\n",
       "      <td>&lt;a href=\"http://twitter.com/download/iphone\" r...</td>\n",
       "      <td>If I ever go on a real first date my first que...</td>\n",
       "      <td>https://twitter.com/SixFootShawty/status/75400...</td>\n",
       "      <td>Sun Apr 05 22:26:16 +0000 2015</td>\n",
       "      <td>SixFootShawty</td>\n",
       "      <td>False</td>\n",
       "      <td>2 Corinthians 5:17 | Towson Alumna | BGM✨</td>\n",
       "      <td>28319</td>\n",
       "      <td>417</td>\n",
       "      <td>397</td>\n",
       "      <td>5</td>\n",
       "      <td>In Christ</td>\n",
       "      <td>Omolere</td>\n",
       "      <td>SixFootShawty</td>\n",
       "      <td>33338</td>\n",
       "      <td>NaN</td>\n",
       "      <td>NaN</td>\n",
       "      <td>False</td>\n",
       "    </tr>\n",
       "  </tbody>\n",
       "</table>\n",
       "</div>"
      ],
      "text/plain": [
       "  coordinates                      created_at  \\\n",
       "0         NaN  Fri Jul 15 17:06:28 +0000 2016   \n",
       "1         NaN  Fri Jul 15 17:12:17 +0000 2016   \n",
       "2         NaN  Fri Jul 15 17:11:43 +0000 2016   \n",
       "3         NaN  Fri Jul 15 17:14:08 +0000 2016   \n",
       "4         NaN  Fri Jul 15 17:12:53 +0000 2016   \n",
       "\n",
       "                          hashtags  \\\n",
       "0                 BlackLivesMatter   \n",
       "1                 blacklivesmatter   \n",
       "2                 BlackLivesMatter   \n",
       "3                 blacklivesmatter   \n",
       "4  alllivesmatter blacklivesmatter   \n",
       "\n",
       "                                               media  \\\n",
       "0  https://twitter.com/TheWire985/status/75399918...   \n",
       "1                                                NaN   \n",
       "2                                                NaN   \n",
       "3                                                NaN   \n",
       "4                                                NaN   \n",
       "\n",
       "                                                urls  favorite_count  \\\n",
       "0                             http://buff.ly/29I1p76               1   \n",
       "1                              http://chi.mg/29UAAkx               0   \n",
       "2  https://twitter.com/pj1017__/status/7539991226...               0   \n",
       "3                                                NaN               0   \n",
       "4                                                NaN               1   \n",
       "\n",
       "                   id in_reply_to_screen_name  in_reply_to_status_id  \\\n",
       "0  753999182835412993                     NaN                    NaN   \n",
       "1  754000645536047104                     NaN                    NaN   \n",
       "2  754000504775118848                     NaN                    NaN   \n",
       "3  754001110394806272                     NaN                    NaN   \n",
       "4  754000798133084160                     NaN                    NaN   \n",
       "\n",
       "   in_reply_to_user_id lang place possibly_sensitive  retweet_count  \\\n",
       "0                  NaN   en   NaN              False              1   \n",
       "1                  NaN   en   NaN              False              0   \n",
       "2                  NaN  und   NaN              False              0   \n",
       "3                  NaN   en   NaN                NaN              0   \n",
       "4                  NaN   en   NaN                NaN              0   \n",
       "\n",
       "   retweet_id retweet_screen_name  \\\n",
       "0         NaN                 NaN   \n",
       "1         NaN                 NaN   \n",
       "2         NaN                 NaN   \n",
       "3         NaN                 NaN   \n",
       "4         NaN                 NaN   \n",
       "\n",
       "                                              source  \\\n",
       "0  <a href=\"https://buffer.com\" rel=\"nofollow\">Bu...   \n",
       "1  <a href=\"http://mobile.twitter.com\" rel=\"nofol...   \n",
       "2  <a href=\"http://twitter.com/download/iphone\" r...   \n",
       "3  <a href=\"http://twitter.com/download/iphone\" r...   \n",
       "4  <a href=\"http://twitter.com/download/iphone\" r...   \n",
       "\n",
       "                                                text  \\\n",
       "0  How Black Radio Hurts #BlackLivesMatter https:...   \n",
       "1  Incredible, incredible girls!! How 4 Teenage G...   \n",
       "2       #BlackLivesMatter 😂😂 https://t.co/tT8lxhw8sF   \n",
       "3  You cannot link arms under a universalist bann...   \n",
       "4  If I ever go on a real first date my first que...   \n",
       "\n",
       "                                           tweet_url  \\\n",
       "0  https://twitter.com/TheWire985/status/75399918...   \n",
       "1  https://twitter.com/Womens_Wire/status/7540006...   \n",
       "2  https://twitter.com/BigP____/status/7540005047...   \n",
       "3  https://twitter.com/casbahgal/status/754001110...   \n",
       "4  https://twitter.com/SixFootShawty/status/75400...   \n",
       "\n",
       "                  user_created_at user_screen_name  \\\n",
       "0  Sun Apr 03 19:07:21 +0000 2016       TheWire985   \n",
       "1  Fri Apr 04 05:48:22 +0000 2014      Womens_Wire   \n",
       "2  Sun Oct 10 12:01:58 +0000 2010         BigP____   \n",
       "3  Wed Oct 24 18:13:57 +0000 2012        casbahgal   \n",
       "4  Sun Apr 05 22:26:16 +0000 2015    SixFootShawty   \n",
       "\n",
       "   user_default_profile_image  \\\n",
       "0                       False   \n",
       "1                       False   \n",
       "2                       False   \n",
       "3                       False   \n",
       "4                       False   \n",
       "\n",
       "                                    user_description  user_favourites_count  \\\n",
       "0  FM Radio: Music-Talk. Hip-Hop, R&B, and Timele...                    109   \n",
       "1  A platform for the voices and activism of inte...                  13307   \n",
       "2             Rest in Peace Quwan Forever My Brother                   1043   \n",
       "3   Sociology Professor to some, Mom to those few :)                   3045   \n",
       "4          2 Corinthians 5:17 | Towson Alumna | BGM✨                  28319   \n",
       "\n",
       "   user_followers_count  user_friends_count  user_listed_count  user_location  \\\n",
       "0                   306                 123                 16       Orlando    \n",
       "1                   585                 619                 38  United States   \n",
       "2                  2925                1365                  7      With Jb ✌   \n",
       "3                    65                 220                 10            NaN   \n",
       "4                   417                 397                  5      In Christ   \n",
       "\n",
       "       user_name user_screen_name.1  user_statuses_count  user_time_zone  \\\n",
       "0  The Wire 98.5         TheWire985                79016             NaN   \n",
       "1   Women's Wire        Womens_Wire                10666             NaN   \n",
       "2     Sosa mommy           BigP____                99467             NaN   \n",
       "3         Denise          casbahgal                 1449             NaN   \n",
       "4        Omolere      SixFootShawty                33338             NaN   \n",
       "\n",
       "                          user_urls  user_verified  \n",
       "0         http://www.TheWire985.com          False  \n",
       "1  https://www.womenswiremedia.org/          False  \n",
       "2                               NaN          False  \n",
       "3                               NaN          False  \n",
       "4                               NaN          False  "
      ]
     },
     "execution_count": 3,
     "metadata": {},
     "output_type": "execute_result"
    }
   ],
   "source": [
    "blm = data_loader()\n",
    "blm.head()"
   ]
  },
  {
   "cell_type": "markdown",
   "metadata": {},
   "source": [
    "### 4. Using your data, empirically demonstrate in Python that the cultural phenomenon you are studying consists of replicas from a common legisign, with the same interpretants and sign relations.\n",
    "\n",
    "In this section, I create four plots using code from Dr. Clindaniel's lectures:\n",
    "\n",
    "1. Top nouns from tweets posted in 2020\n",
    "2. Top nouns from tweets posted in 2016\n",
    "3. TF-IDF plot from tweets posted in 2020\n",
    "4. TF-IDF plot from tweets posted in 2016\n",
    "\n",
    "I intend to use the noun plots to gain insight into how, if at all, the objects that the sign-vehicle refer to have changed over the four year period. Similarly, I use the TF-IDF plot to give weight to words in order to better understand their importance in each time period. "
   ]
  },
  {
   "cell_type": "markdown",
   "metadata": {},
   "source": [
    "#### Plotting Top Nouns:"
   ]
  },
  {
   "cell_type": "markdown",
   "metadata": {},
   "source": [
    "Clean data."
   ]
  },
  {
   "cell_type": "code",
   "execution_count": 4,
   "metadata": {},
   "outputs": [],
   "source": [
    "def data_cleaner(dataframe):\n",
    "    \"\"\"Replaces words, removes hyperlinks, and creates a new column\n",
    "    with the year in which the tweet was tweeted.\n",
    "    \"\"\"\n",
    "\n",
    "    df = dataframe.copy()\n",
    "\n",
    "    # Replaces cops and officers to police \n",
    "    replacements = {\n",
    "        'text': {\n",
    "            'cops': 'police',\n",
    "            'cop': 'police',\n",
    "            'officers': 'police',\n",
    "            'officer': 'police'    \n",
    "        }\n",
    "    }    \n",
    "    df.replace(replacements, regex=True, inplace=True)\n",
    "\n",
    "    # Replaces hyperlinks with an empty string character\n",
    "    link_format = 'http[s]?://(?:[a-zA-Z]|[0-9]|[$-_@.&+]|[!*\\(\\),]|(?:%[0-9a-fA-F][0-9a-fA-F]))+'\n",
    "    df['text'] = df['text'].str.replace(link_format, '') \n",
    "    \n",
    "    # Creates new column that is just the year \n",
    "    df['year'] = [date[-4:] for date in df['created_at']]\n",
    "\n",
    "    return df"
   ]
  },
  {
   "cell_type": "code",
   "execution_count": 5,
   "metadata": {},
   "outputs": [],
   "source": [
    "blm = data_cleaner(blm)"
   ]
  },
  {
   "cell_type": "markdown",
   "metadata": {},
   "source": [
    "Split tweets into 2016 and 2020 data."
   ]
  },
  {
   "cell_type": "code",
   "execution_count": 6,
   "metadata": {},
   "outputs": [],
   "source": [
    "def data_splitter(dataframe, year):\n",
    "    \"\"\"Splits tweet dataframe by a specified year.\"\"\"\n",
    "\n",
    "    df = dataframe.copy()\n",
    "\n",
    "    df = df[df['year'] == year]\n",
    "    \n",
    "    return df "
   ]
  },
  {
   "cell_type": "code",
   "execution_count": 7,
   "metadata": {},
   "outputs": [],
   "source": [
    "blm_2020, blm_2016 = [data_splitter(blm, year) for year in ['2020', '2016']]"
   ]
  },
  {
   "cell_type": "markdown",
   "metadata": {},
   "source": [
    "Define stop words to be removed from lemmatization and instantiate nltk's `TweetTokenizer` function."
   ]
  },
  {
   "cell_type": "code",
   "execution_count": 8,
   "metadata": {},
   "outputs": [],
   "source": [
    "# Define stop words specific to BLM tweets\n",
    "blm_stops = [\n",
    "    '#blacklivesmatter',\n",
    "    '#blklivesmatter',\n",
    "    '#bluelivesmatter',\n",
    "    '#alllivesmatter',\n",
    "    'people',\n",
    "    'movement',\n",
    "    'lives',\n",
    "    'matter',\n",
    "    'blue',\n",
    "    'blm',\n",
    "    'time',\n",
    "    'today',\n",
    "    'rt',\n",
    "    '…',\n",
    "    '’',\n",
    "    'thanks',\n",
    "    'oop',\n",
    "    'real',\n",
    "    'bow',\n",
    "    'tadaaaaaan',\n",
    "    'bravo',\n",
    "    'stfu',\n",
    "    'real',\n",
    "    'pussy',\n",
    "    'cc'\n",
    "]\n",
    "stop_words = (nltk.corpus.stopwords.words('english')\n",
    "                + list(string.punctuation)\n",
    "                + blm_stops)\n",
    "    \n",
    "# Instantiate nltk's TweetTokenizer function \n",
    "tknzr = TweetTokenizer()"
   ]
  },
  {
   "cell_type": "markdown",
   "metadata": {},
   "source": [
    "Use functions from Dr. Clindaniel's class to tokenize text and plot top nouns."
   ]
  },
  {
   "cell_type": "code",
   "execution_count": 9,
   "metadata": {},
   "outputs": [],
   "source": [
    "def pos_tag(text):\n",
    "    \"\"\"Returns a tokenized word alongside its corresponding part of\n",
    "    speech tag. From Dr. Clindaniel's lecture. \n",
    "    \"\"\"\n",
    "    \n",
    "    tokens = [i for i in tknzr.tokenize(text.lower()) if i not in stop_words]\n",
    "    pos_tagged = nltk.pos_tag(tokens)\n",
    "    \n",
    "    return pos_tagged\n",
    "\n",
    "\n",
    "def plot_top_pos(series, data_description, pos):\n",
    "    \"\"\"Plots the top 25 words tagged to a part of speech.\n",
    "    From Dr. Clindaniel's lecture.\n",
    "    \"\"\"\n",
    "\n",
    "    pos_tagged = series.apply(pos_tag)\n",
    "\n",
    "    pos_tagged_full = []\n",
    "    for i in pos_tagged:\n",
    "        pos_tagged_full.extend(i)\n",
    "\n",
    "    fd = nltk.FreqDist(word + \"/\" + tag for (word, tag)\n",
    "                       in pos_tagged_full if tag[:2] == pos)\n",
    "    fd.plot(25, title='Top 25  ' + data_description)\n",
    "    \n",
    "    return"
   ]
  },
  {
   "cell_type": "code",
   "execution_count": 10,
   "metadata": {},
   "outputs": [
    {
     "data": {
      "image/png": "[encoded data removed]",
      "text/plain": [
       "<Figure size 432x288 with 1 Axes>"
      ]
     },
     "metadata": {
      "needs_background": "light"
     },
     "output_type": "display_data"
    }
   ],
   "source": [
    "plot_top_pos(blm_2016['text'], 'nouns', 'NN')"
   ]
  },
  {
   "cell_type": "code",
   "execution_count": 11,
   "metadata": {},
   "outputs": [
    {
     "data": {
      "image/png": "[encoded data removed]",
      "text/plain": [
       "<Figure size 432x288 with 1 Axes>"
      ]
     },
     "metadata": {
      "needs_background": "light"
     },
     "output_type": "display_data"
    }
   ],
   "source": [
    "plot_top_pos(blm_2020['text'], 'nouns', 'NN')"
   ]
  },
  {
   "cell_type": "markdown",
   "metadata": {},
   "source": [
    "#### TF-IDF Plots:"
   ]
  },
  {
   "cell_type": "markdown",
   "metadata": {},
   "source": [
    "Remove Twitter handles from the analysis."
   ]
  },
  {
   "cell_type": "code",
   "execution_count": 12,
   "metadata": {},
   "outputs": [],
   "source": [
    "def remove_pattern(input_txt, pattern):\n",
    "    \"\"\"Removes Twitter handles from tweets, otherwise \n",
    "    they rank high on a TF-IDF plot.\n",
    "    \"\"\"\n",
    "    \n",
    "    r = re.findall(pattern, input_txt)\n",
    "    for i in r:\n",
    "        input_txt = re.sub(i, '', input_txt)\n",
    "        \n",
    "    return input_txt    "
   ]
  },
  {
   "cell_type": "markdown",
   "metadata": {},
   "source": [
    "Create new dataframes and columns without the handles."
   ]
  },
  {
   "cell_type": "code",
   "execution_count": 13,
   "metadata": {},
   "outputs": [],
   "source": [
    "blm_2020['text_no_users'] = np.vectorize(remove_pattern)(blm_2020['text'], \"@[\\w]*\") \n",
    "blm_2016['text_no_users'] = np.vectorize(remove_pattern)(blm_2016['text'], \"@[\\w]*\") "
   ]
  },
  {
   "cell_type": "markdown",
   "metadata": {},
   "source": [
    "Using functions from Dr. Clindaniel's class, create the TF-IDF plots."
   ]
  },
  {
   "cell_type": "code",
   "execution_count": 14,
   "metadata": {},
   "outputs": [],
   "source": [
    "def get_wordnet_pos(word):\n",
    "    \n",
    "    tag = nltk.pos_tag([word])[0][1][0].upper()\n",
    "    tag_dict = {\n",
    "        'J': nltk.corpus.wordnet.ADJ,\n",
    "        'N': nltk.corpus.wordnet.NOUN,\n",
    "        'V': nltk.corpus.wordnet.VERB,\n",
    "        'R': nltk.corpus.wordnet.ADV\n",
    "    }\n",
    "\n",
    "    return tag_dict.get(tag, nltk.corpus.wordnet.NOUN)\n",
    "\n",
    "\n",
    "def get_lemmas(text):\n",
    "    \"\"\"Tokenizes a series of text and returns their corresponding\n",
    "    lemmas.\n",
    "    \"\"\"\n",
    "\n",
    "    tokens = [i for i in tknzr.tokenize(text.lower()) if i not in stop_words]\n",
    "    lemmas = [nltk.stem.WordNetLemmatizer().lemmatize(t, get_wordnet_pos(t))\n",
    "              for t in tokens]\n",
    "\n",
    "    return lemmas\n",
    "\n",
    "\n",
    "def plot_top_tfidf(series, data_description, n = 20):\n",
    "\n",
    "    lemmas = series.apply(get_lemmas)\n",
    "    \n",
    "    dictionary = corpora.Dictionary([i for i in lemmas])\n",
    "\n",
    "    bow_corpus = [dictionary.doc2bow(text) for text in lemmas]\n",
    "    \n",
    "    tfidf = models.TfidfModel(bow_corpus)\n",
    "    tfidf_weights = {}\n",
    "    for doc in tfidf[bow_corpus]:\n",
    "        for ID, freq in doc:\n",
    "            tfidf_weights[dictionary[ID]] = np.around(freq, decimals = 2)\n",
    "\n",
    "    top_n = pd.Series(tfidf_weights).nlargest(n)\n",
    "    \n",
    "    plt.plot(top_n.index, top_n.values)\n",
    "    plt.xticks(rotation='vertical')\n",
    "    plt.title('Top {} Lemmas (TFIDF) for '.format(n) + data_description);\n",
    "    \n",
    "    return"
   ]
  },
  {
   "cell_type": "code",
   "execution_count": 15,
   "metadata": {},
   "outputs": [
    {
     "data": {
      "image/png": "[encoded data removed]",
      "text/plain": [
       "<Figure size 432x288 with 1 Axes>"
      ]
     },
     "metadata": {
      "needs_background": "light"
     },
     "output_type": "display_data"
    }
   ],
   "source": [
    "plot_top_tfidf(blm_2016['text_no_users'], '2016 Tweets')"
   ]
  },
  {
   "cell_type": "code",
   "execution_count": 16,
   "metadata": {},
   "outputs": [
    {
     "data": {
      "image/png": "[encoded data removed]",
      "text/plain": [
       "<Figure size 432x288 with 1 Axes>"
      ]
     },
     "metadata": {
      "needs_background": "light"
     },
     "output_type": "display_data"
    }
   ],
   "source": [
    "plot_top_tfidf(blm_2020['text_no_users'], '2020 Tweets')"
   ]
  },
  {
   "cell_type": "markdown",
   "metadata": {},
   "source": [
    "#### Discussion:\n",
    "\n",
    "The top 25 noun plots from both 2020 and 2016 demonstrate that the usage of the hashtag BlackLivesMatter (#BLM) is a replica of a legisign because the digital sign-vehicle follows the same convention every time it is used. Black Lives Matter evokes instances of racial injustice, and unsurprisingly, the plots provide empirical evidence that Twitter users are also discussing racial injustice alongside the hashtag. From the Top 25 Nouns in 2016 plot, police (and variations of the term such as “officer” and “cop”) dominate the distributions of all nouns in the corpus. The words “racist” and “violence” stand out as well. In conjunction all three terms support the argument that the online sign, #blm, is consistently used to refer to police brutality against Black people. One question worth asking is if these conventions hold over a longer period. In turning to the Top 25 Nouns in 2020 plot, it is evident that the rules governing the legisign hold four years later. Tamir Rice’s name is the fifth most popular noun in addition to the words “gun” and “race” which rank third and sixteenth respectively. These terms suggest that the hashtag continues to be used to refer to police violence, as Tamir Rice, a 12-year-old Black boy was murdered by officer Timothy Loehmann 6 years prior. These consistent patterns suggest that the sign is being produced and reproduced in a similar fashion over time. \n",
    "\n",
    "It is also worth highlighting that the nouns in 2020 are not completely identical to the nouns four years prior. While the relationship between the sign-vehicles and the objects remains indexical across the two years, the sign-vehicles are pointing to different events/people. In 2016, the objects are primarily about police officers and institutionalized violence. Conversely, in 2020, there is more of a variety of objects. Protestors, Patricia McCloskey, and Terry Crews emerge as objects in relation to the hashtag. These new nouns suggest that #BLM does not only indexically point to institutionalized racism, but it also refers to agency and resistance against racism (in the words “protester” and “protest”) as well as the non-institutional manifestations of racism seen in mentions of Patricia McCloskey who held guns at Black Lives Matter protestors in St. Louis along with her husband. References to Terry Crews similarly highlight how #BLM refers to the ways in which Whiteness is centered when he tweeted “We must ensure #blacklivesmatter doesn't morph into #blacklivesbetter.”\n",
    "\n",
    "Overall, the interpretant is consistent. The hashtag is used to stand against racism towards Black people. However, the objects in each respective year are slightly different. The objects indexically correlated to the sign-vehicle suggest that replication of the legisign indexically position Twitter users’ values as usage creates an iconic resemblance to other hashtag users. \n",
    "\n",
    "In addition to the Top Nouns plots, I also created at TF-IDF plot by implementing the code from Dr. Clindaniel's hands-on fashion lecture. In looking at the TF-IDF plots, the story is relatively less clear. It's evident that the interpretant is about racial inequities in both years as \"blacklivesmatter\" is one of the most important terms in the 2020 plot (unsurprisingly) and \"whiteprivilege\" is prominent in the 2016 plot. However, it's a bit more difficult to make sense of the terms here compared to the Top Nouns plots because words like \"sits\", and hashtags like \"this\" appear in the 2020 TF-IDF plot while words like \"thank\", \"settle\", and \"nutshell\" stand out in the 2016 TF-IDF plot. Even so, there's a sense that the conversation has changed slightly when comparing the TF-IDF plots in 2016 versus 2020. The hashtag \"aintgettingkilledintestreets\" pops out in the 2016 plot which is a reference to the police brutality that is also evident in the noun plot for that same year. And in the 2020 TF-IDF plot, the word \"ally\" also jumps out which seems to hint at the possibility that the hashtag is used to indexically position a user's beliefs. By tweeting #BLM, users are positioning themselves as supporters of the movement."
   ]
  },
  {
   "cell_type": "markdown",
   "metadata": {},
   "source": [
    "### 5. What are your next steps beyond this basic identification of a cultural pattern? Do you need to gather any additional information? Do you need to perform any additional analyses in order to successfully answer your research question? How will these additional sources and/or analyses enable you to answer your research question? Provide a 200+ word response to these questions\n",
    "\n",
    "In order to fully answer my research question, I will need to:\n",
    "\n",
    "1.\tAnalyze a larger set of the data\n",
    "2.\tExplore tweets on a spatial dimension not only a temporal dimension\n",
    "3.\tUncover how Twitter users are using words like “officer” and “protester” are being used in relation to other words\n",
    "\n",
    "First, I plan on looking at more tweets. My initial analysis only looked at 389,000 tweets because of computing power, but the file available on arXiv contains more than 41 million total tweets. Looking at a larger portion of the data will allow me to uncover more widespread trends that aren’t swayed by the size of tweets. In other words, looking at a larger subset of the data can allow me to compare a more complete picture as to how the #blm discourse on Twitter has changed or remained the same in the span of four years. \n",
    "\n",
    "Second, my current analysis only looks at tweets in 2016 versus tweets in 2020. Moving forward, I will also need to look at location if I’m interested in comparing local conversations to ones at the national level. “Hydrating” tweet IDs can also reveal metadata such as coordinates. For my final project, I can use coordinates to group and compare tweets based on location. \n",
    "\n",
    "Third, I need to move beyond analyzing individual words. The individual words, hashtags, and phrases provide a sense of what the conversation looks like in each year (such as police brutality vs. protests), but a more complete analysis will look at how these words are being used in relation to other terms.  "
   ]
  },
  {
   "cell_type": "markdown",
   "metadata": {},
   "source": [
    "### Citations\n",
    "\n",
    "1. `pos_tag`, `plot_top_pos`, `get_lemmas`, and`get_wordnet_pos` functions: Dr. Clindaniel's hands-on fashion lecture from 2/4/2021\n",
    "2. Removing hyperlinks from tweets: https://stackoverflow.com/questions/51994254/removing-url-from-a-column-in-pandas-dataframe/51994366\n",
    "3. Removing user names from tweets: https://stackoverflow.com/questions/50830214/remove-usernames-from-twitter-data-using-python"
   ]
  }
 ],
 "metadata": {
  "kernelspec": {
   "display_name": "Python 3",
   "language": "python",
   "name": "python3"
  },
  "language_info": {
   "codemirror_mode": {
    "name": "ipython",
    "version": 3
   },
   "file_extension": ".py",
   "mimetype": "text/x-python",
   "name": "python",
   "nbconvert_exporter": "python",
   "pygments_lexer": "ipython3",
   "version": "3.7.6"
  }
 },
 "nbformat": 4,
 "nbformat_minor": 4
}
